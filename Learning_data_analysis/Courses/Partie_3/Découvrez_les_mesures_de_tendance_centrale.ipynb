{
  "nbformat": 4,
  "nbformat_minor": 0,
  "metadata": {
    "colab": {
      "provenance": [],
      "authorship_tag": "ABX9TyM+pfZKCjtA3AWRxtSfbMhA",
      "include_colab_link": true
    },
    "kernelspec": {
      "name": "python3",
      "display_name": "Python 3"
    },
    "language_info": {
      "name": "python"
    }
  },
  "cells": [
    {
      "cell_type": "markdown",
      "metadata": {
        "id": "view-in-github",
        "colab_type": "text"
      },
      "source": [
        "<a href=\"https://colab.research.google.com/github/Harlequelrah/Learning_data_analysis/blob/main/Learning_data_analysis/Courses/Partie_3/D%C3%A9couvrez_les_mesures_de_tendance_centrale.ipynb\" target=\"_parent\"><img src=\"https://colab.research.google.com/assets/colab-badge.svg\" alt=\"Open In Colab\"/></a>"
      ]
    },
    {
      "cell_type": "markdown",
      "source": [
        "# **Découvrez les mesures de tendance centrale**\n",
        "\n",
        "## 1 - Le mode\n",
        "\n",
        "Pour les variables qualitatives ou quantitatives discrète c'est la valeur de la variable  avec le plus grand effectif .\n",
        "\n",
        "Pour les variables quantitatives continues c'est la classe avec le plus grand effectif .\n",
        "\n",
        "On distingue des distributions unimodales , bimodales , plurimodales ."
      ],
      "metadata": {
        "id": "X_unzoyTcFG6"
      }
    },
    {
      "cell_type": "code",
      "execution_count": 21,
      "metadata": {
        "colab": {
          "base_uri": "https://localhost:8080/",
          "height": 206
        },
        "id": "L04XNd6JYq0q",
        "outputId": "dd537c81-259a-427d-d92d-1d2a3b538401"
      },
      "outputs": [
        {
          "output_type": "execute_result",
          "data": {
            "text/plain": [
              "  date_operation                                       libelle  montant  \\\n",
              "0     2023-03-31                      DON XX XX XX XX XX XX XX    -1.44   \n",
              "1     2023-04-03                           CARTE XX XX RAPT XX   -24.00   \n",
              "2     2023-04-03                           CARTE XX XX RAPT XX   -73.00   \n",
              "3     2023-04-03  VIREMENT XX XX XX XX XX XX XX XX XX XX XX XX   676.00   \n",
              "4     2023-04-03                    VIREMENT XX XX XX XX XX XX     4.80   \n",
              "\n",
              "   solde_avt_ope      categ  \n",
              "0        1515.25      AUTRE  \n",
              "1        1513.81  TRANSPORT  \n",
              "2        1489.81  TRANSPORT  \n",
              "3        1416.81      AUTRE  \n",
              "4        2092.81      AUTRE  "
            ],
            "text/html": [
              "\n",
              "  <div id=\"df-11d0689d-1bd8-4b29-9fe9-d0bf937d63ba\" class=\"colab-df-container\">\n",
              "    <div>\n",
              "<style scoped>\n",
              "    .dataframe tbody tr th:only-of-type {\n",
              "        vertical-align: middle;\n",
              "    }\n",
              "\n",
              "    .dataframe tbody tr th {\n",
              "        vertical-align: top;\n",
              "    }\n",
              "\n",
              "    .dataframe thead th {\n",
              "        text-align: right;\n",
              "    }\n",
              "</style>\n",
              "<table border=\"1\" class=\"dataframe\">\n",
              "  <thead>\n",
              "    <tr style=\"text-align: right;\">\n",
              "      <th></th>\n",
              "      <th>date_operation</th>\n",
              "      <th>libelle</th>\n",
              "      <th>montant</th>\n",
              "      <th>solde_avt_ope</th>\n",
              "      <th>categ</th>\n",
              "    </tr>\n",
              "  </thead>\n",
              "  <tbody>\n",
              "    <tr>\n",
              "      <th>0</th>\n",
              "      <td>2023-03-31</td>\n",
              "      <td>DON XX XX XX XX XX XX XX</td>\n",
              "      <td>-1.44</td>\n",
              "      <td>1515.25</td>\n",
              "      <td>AUTRE</td>\n",
              "    </tr>\n",
              "    <tr>\n",
              "      <th>1</th>\n",
              "      <td>2023-04-03</td>\n",
              "      <td>CARTE XX XX RAPT XX</td>\n",
              "      <td>-24.00</td>\n",
              "      <td>1513.81</td>\n",
              "      <td>TRANSPORT</td>\n",
              "    </tr>\n",
              "    <tr>\n",
              "      <th>2</th>\n",
              "      <td>2023-04-03</td>\n",
              "      <td>CARTE XX XX RAPT XX</td>\n",
              "      <td>-73.00</td>\n",
              "      <td>1489.81</td>\n",
              "      <td>TRANSPORT</td>\n",
              "    </tr>\n",
              "    <tr>\n",
              "      <th>3</th>\n",
              "      <td>2023-04-03</td>\n",
              "      <td>VIREMENT XX XX XX XX XX XX XX XX XX XX XX XX</td>\n",
              "      <td>676.00</td>\n",
              "      <td>1416.81</td>\n",
              "      <td>AUTRE</td>\n",
              "    </tr>\n",
              "    <tr>\n",
              "      <th>4</th>\n",
              "      <td>2023-04-03</td>\n",
              "      <td>VIREMENT XX XX XX XX XX XX</td>\n",
              "      <td>4.80</td>\n",
              "      <td>2092.81</td>\n",
              "      <td>AUTRE</td>\n",
              "    </tr>\n",
              "  </tbody>\n",
              "</table>\n",
              "</div>\n",
              "    <div class=\"colab-df-buttons\">\n",
              "\n",
              "  <div class=\"colab-df-container\">\n",
              "    <button class=\"colab-df-convert\" onclick=\"convertToInteractive('df-11d0689d-1bd8-4b29-9fe9-d0bf937d63ba')\"\n",
              "            title=\"Convert this dataframe to an interactive table.\"\n",
              "            style=\"display:none;\">\n",
              "\n",
              "  <svg xmlns=\"http://www.w3.org/2000/svg\" height=\"24px\" viewBox=\"0 -960 960 960\">\n",
              "    <path d=\"M120-120v-720h720v720H120Zm60-500h600v-160H180v160Zm220 220h160v-160H400v160Zm0 220h160v-160H400v160ZM180-400h160v-160H180v160Zm440 0h160v-160H620v160ZM180-180h160v-160H180v160Zm440 0h160v-160H620v160Z\"/>\n",
              "  </svg>\n",
              "    </button>\n",
              "\n",
              "  <style>\n",
              "    .colab-df-container {\n",
              "      display:flex;\n",
              "      gap: 12px;\n",
              "    }\n",
              "\n",
              "    .colab-df-convert {\n",
              "      background-color: #E8F0FE;\n",
              "      border: none;\n",
              "      border-radius: 50%;\n",
              "      cursor: pointer;\n",
              "      display: none;\n",
              "      fill: #1967D2;\n",
              "      height: 32px;\n",
              "      padding: 0 0 0 0;\n",
              "      width: 32px;\n",
              "    }\n",
              "\n",
              "    .colab-df-convert:hover {\n",
              "      background-color: #E2EBFA;\n",
              "      box-shadow: 0px 1px 2px rgba(60, 64, 67, 0.3), 0px 1px 3px 1px rgba(60, 64, 67, 0.15);\n",
              "      fill: #174EA6;\n",
              "    }\n",
              "\n",
              "    .colab-df-buttons div {\n",
              "      margin-bottom: 4px;\n",
              "    }\n",
              "\n",
              "    [theme=dark] .colab-df-convert {\n",
              "      background-color: #3B4455;\n",
              "      fill: #D2E3FC;\n",
              "    }\n",
              "\n",
              "    [theme=dark] .colab-df-convert:hover {\n",
              "      background-color: #434B5C;\n",
              "      box-shadow: 0px 1px 3px 1px rgba(0, 0, 0, 0.15);\n",
              "      filter: drop-shadow(0px 1px 2px rgba(0, 0, 0, 0.3));\n",
              "      fill: #FFFFFF;\n",
              "    }\n",
              "  </style>\n",
              "\n",
              "    <script>\n",
              "      const buttonEl =\n",
              "        document.querySelector('#df-11d0689d-1bd8-4b29-9fe9-d0bf937d63ba button.colab-df-convert');\n",
              "      buttonEl.style.display =\n",
              "        google.colab.kernel.accessAllowed ? 'block' : 'none';\n",
              "\n",
              "      async function convertToInteractive(key) {\n",
              "        const element = document.querySelector('#df-11d0689d-1bd8-4b29-9fe9-d0bf937d63ba');\n",
              "        const dataTable =\n",
              "          await google.colab.kernel.invokeFunction('convertToInteractive',\n",
              "                                                    [key], {});\n",
              "        if (!dataTable) return;\n",
              "\n",
              "        const docLinkHtml = 'Like what you see? Visit the ' +\n",
              "          '<a target=\"_blank\" href=https://colab.research.google.com/notebooks/data_table.ipynb>data table notebook</a>'\n",
              "          + ' to learn more about interactive tables.';\n",
              "        element.innerHTML = '';\n",
              "        dataTable['output_type'] = 'display_data';\n",
              "        await google.colab.output.renderOutput(dataTable, element);\n",
              "        const docLink = document.createElement('div');\n",
              "        docLink.innerHTML = docLinkHtml;\n",
              "        element.appendChild(docLink);\n",
              "      }\n",
              "    </script>\n",
              "  </div>\n",
              "\n",
              "\n",
              "    <div id=\"df-9a6c1f0b-15e1-43ab-a7c1-265a2a928697\">\n",
              "      <button class=\"colab-df-quickchart\" onclick=\"quickchart('df-9a6c1f0b-15e1-43ab-a7c1-265a2a928697')\"\n",
              "                title=\"Suggest charts\"\n",
              "                style=\"display:none;\">\n",
              "\n",
              "<svg xmlns=\"http://www.w3.org/2000/svg\" height=\"24px\"viewBox=\"0 0 24 24\"\n",
              "     width=\"24px\">\n",
              "    <g>\n",
              "        <path d=\"M19 3H5c-1.1 0-2 .9-2 2v14c0 1.1.9 2 2 2h14c1.1 0 2-.9 2-2V5c0-1.1-.9-2-2-2zM9 17H7v-7h2v7zm4 0h-2V7h2v10zm4 0h-2v-4h2v4z\"/>\n",
              "    </g>\n",
              "</svg>\n",
              "      </button>\n",
              "\n",
              "<style>\n",
              "  .colab-df-quickchart {\n",
              "      --bg-color: #E8F0FE;\n",
              "      --fill-color: #1967D2;\n",
              "      --hover-bg-color: #E2EBFA;\n",
              "      --hover-fill-color: #174EA6;\n",
              "      --disabled-fill-color: #AAA;\n",
              "      --disabled-bg-color: #DDD;\n",
              "  }\n",
              "\n",
              "  [theme=dark] .colab-df-quickchart {\n",
              "      --bg-color: #3B4455;\n",
              "      --fill-color: #D2E3FC;\n",
              "      --hover-bg-color: #434B5C;\n",
              "      --hover-fill-color: #FFFFFF;\n",
              "      --disabled-bg-color: #3B4455;\n",
              "      --disabled-fill-color: #666;\n",
              "  }\n",
              "\n",
              "  .colab-df-quickchart {\n",
              "    background-color: var(--bg-color);\n",
              "    border: none;\n",
              "    border-radius: 50%;\n",
              "    cursor: pointer;\n",
              "    display: none;\n",
              "    fill: var(--fill-color);\n",
              "    height: 32px;\n",
              "    padding: 0;\n",
              "    width: 32px;\n",
              "  }\n",
              "\n",
              "  .colab-df-quickchart:hover {\n",
              "    background-color: var(--hover-bg-color);\n",
              "    box-shadow: 0 1px 2px rgba(60, 64, 67, 0.3), 0 1px 3px 1px rgba(60, 64, 67, 0.15);\n",
              "    fill: var(--button-hover-fill-color);\n",
              "  }\n",
              "\n",
              "  .colab-df-quickchart-complete:disabled,\n",
              "  .colab-df-quickchart-complete:disabled:hover {\n",
              "    background-color: var(--disabled-bg-color);\n",
              "    fill: var(--disabled-fill-color);\n",
              "    box-shadow: none;\n",
              "  }\n",
              "\n",
              "  .colab-df-spinner {\n",
              "    border: 2px solid var(--fill-color);\n",
              "    border-color: transparent;\n",
              "    border-bottom-color: var(--fill-color);\n",
              "    animation:\n",
              "      spin 1s steps(1) infinite;\n",
              "  }\n",
              "\n",
              "  @keyframes spin {\n",
              "    0% {\n",
              "      border-color: transparent;\n",
              "      border-bottom-color: var(--fill-color);\n",
              "      border-left-color: var(--fill-color);\n",
              "    }\n",
              "    20% {\n",
              "      border-color: transparent;\n",
              "      border-left-color: var(--fill-color);\n",
              "      border-top-color: var(--fill-color);\n",
              "    }\n",
              "    30% {\n",
              "      border-color: transparent;\n",
              "      border-left-color: var(--fill-color);\n",
              "      border-top-color: var(--fill-color);\n",
              "      border-right-color: var(--fill-color);\n",
              "    }\n",
              "    40% {\n",
              "      border-color: transparent;\n",
              "      border-right-color: var(--fill-color);\n",
              "      border-top-color: var(--fill-color);\n",
              "    }\n",
              "    60% {\n",
              "      border-color: transparent;\n",
              "      border-right-color: var(--fill-color);\n",
              "    }\n",
              "    80% {\n",
              "      border-color: transparent;\n",
              "      border-right-color: var(--fill-color);\n",
              "      border-bottom-color: var(--fill-color);\n",
              "    }\n",
              "    90% {\n",
              "      border-color: transparent;\n",
              "      border-bottom-color: var(--fill-color);\n",
              "    }\n",
              "  }\n",
              "</style>\n",
              "\n",
              "      <script>\n",
              "        async function quickchart(key) {\n",
              "          const quickchartButtonEl =\n",
              "            document.querySelector('#' + key + ' button');\n",
              "          quickchartButtonEl.disabled = true;  // To prevent multiple clicks.\n",
              "          quickchartButtonEl.classList.add('colab-df-spinner');\n",
              "          try {\n",
              "            const charts = await google.colab.kernel.invokeFunction(\n",
              "                'suggestCharts', [key], {});\n",
              "          } catch (error) {\n",
              "            console.error('Error during call to suggestCharts:', error);\n",
              "          }\n",
              "          quickchartButtonEl.classList.remove('colab-df-spinner');\n",
              "          quickchartButtonEl.classList.add('colab-df-quickchart-complete');\n",
              "        }\n",
              "        (() => {\n",
              "          let quickchartButtonEl =\n",
              "            document.querySelector('#df-9a6c1f0b-15e1-43ab-a7c1-265a2a928697 button');\n",
              "          quickchartButtonEl.style.display =\n",
              "            google.colab.kernel.accessAllowed ? 'block' : 'none';\n",
              "        })();\n",
              "      </script>\n",
              "    </div>\n",
              "\n",
              "    </div>\n",
              "  </div>\n"
            ],
            "application/vnd.google.colaboratory.intrinsic+json": {
              "type": "dataframe",
              "variable_name": "data",
              "summary": "{\n  \"name\": \"data\",\n  \"rows\": 308,\n  \"fields\": [\n    {\n      \"column\": \"date_operation\",\n      \"properties\": {\n        \"dtype\": \"date\",\n        \"min\": \"2023-03-31 00:00:00\",\n        \"max\": \"2023-10-06 00:00:00\",\n        \"num_unique_values\": 113,\n        \"samples\": [\n          \"2023-08-14 00:00:00\",\n          \"2023-04-07 00:00:00\",\n          \"2023-06-12 00:00:00\"\n        ],\n        \"semantic_type\": \"\",\n        \"description\": \"\"\n      }\n    },\n    {\n      \"column\": \"libelle\",\n      \"properties\": {\n        \"dtype\": \"category\",\n        \"num_unique_values\": 30,\n        \"samples\": [\n          \"CARTE XX XX XX XX LA CCNCF XX\",\n          \"XX XX XX XX XX XX XX\",\n          \"CARTE XX XX XX XX XX XX XX\"\n        ],\n        \"semantic_type\": \"\",\n        \"description\": \"\"\n      }\n    },\n    {\n      \"column\": \"montant\",\n      \"properties\": {\n        \"dtype\": \"number\",\n        \"std\": 176.08985785851203,\n        \"min\": -602.27,\n        \"max\": 1071.6,\n        \"num_unique_values\": 197,\n        \"samples\": [\n          -10.51,\n          -1.92,\n          -20.64\n        ],\n        \"semantic_type\": \"\",\n        \"description\": \"\"\n      }\n    },\n    {\n      \"column\": \"solde_avt_ope\",\n      \"properties\": {\n        \"dtype\": \"number\",\n        \"std\": 667.109411789548,\n        \"min\": 1416.81,\n        \"max\": 4709.31,\n        \"num_unique_values\": 308,\n        \"samples\": [\n          2898.75,\n          2049.0,\n          3436.58\n        ],\n        \"semantic_type\": \"\",\n        \"description\": \"\"\n      }\n    },\n    {\n      \"column\": \"categ\",\n      \"properties\": {\n        \"dtype\": \"category\",\n        \"num_unique_values\": 8,\n        \"samples\": [\n          \"TRANSPORT\",\n          \"RESTAURANT\",\n          \"AUTRE\"\n        ],\n        \"semantic_type\": \"\",\n        \"description\": \"\"\n      }\n    }\n  ]\n}"
            }
          },
          "metadata": {},
          "execution_count": 21
        }
      ],
      "source": [
        "import numpy as np\n",
        "import matplotlib.pyplot as plt\n",
        "import pandas as pd\n",
        "data = pd.read_csv('https://raw.githubusercontent.com/Harlequelrah/Learning_data_analysis/refs/heads/main/Learning_data_analysis/data/operations_clean.csv',parse_dates=[0])\n",
        "data.head()"
      ]
    },
    {
      "cell_type": "code",
      "source": [
        "data['categ'].mode()\n",
        "# le mode est donc Autre"
      ],
      "metadata": {
        "colab": {
          "base_uri": "https://localhost:8080/",
          "height": 115
        },
        "id": "ddEt_2OKfkDr",
        "outputId": "7e4db0d3-1a80-4e30-b5c9-c41a0baf0b4d"
      },
      "execution_count": 22,
      "outputs": [
        {
          "output_type": "execute_result",
          "data": {
            "text/plain": [
              "0    AUTRE\n",
              "Name: categ, dtype: object"
            ],
            "text/html": [
              "<div>\n",
              "<style scoped>\n",
              "    .dataframe tbody tr th:only-of-type {\n",
              "        vertical-align: middle;\n",
              "    }\n",
              "\n",
              "    .dataframe tbody tr th {\n",
              "        vertical-align: top;\n",
              "    }\n",
              "\n",
              "    .dataframe thead th {\n",
              "        text-align: right;\n",
              "    }\n",
              "</style>\n",
              "<table border=\"1\" class=\"dataframe\">\n",
              "  <thead>\n",
              "    <tr style=\"text-align: right;\">\n",
              "      <th></th>\n",
              "      <th>categ</th>\n",
              "    </tr>\n",
              "  </thead>\n",
              "  <tbody>\n",
              "    <tr>\n",
              "      <th>0</th>\n",
              "      <td>AUTRE</td>\n",
              "    </tr>\n",
              "  </tbody>\n",
              "</table>\n",
              "</div><br><label><b>dtype:</b> object</label>"
            ]
          },
          "metadata": {},
          "execution_count": 22
        }
      ]
    },
    {
      "cell_type": "markdown",
      "source": [
        "## 2 - La moyenne\n",
        "\n",
        "C'est le rapport entre la somme des valeurs  et le nombre des valeurs ."
      ],
      "metadata": {
        "id": "GHBmiPgRlVME"
      }
    },
    {
      "cell_type": "code",
      "source": [
        "data['montant'].mean()"
      ],
      "metadata": {
        "colab": {
          "base_uri": "https://localhost:8080/"
        },
        "id": "FuN7os4bfn67",
        "outputId": "0bad4ad7-7556-4b60-929c-7ebd262c92c8"
      },
      "execution_count": 23,
      "outputs": [
        {
          "output_type": "execute_result",
          "data": {
            "text/plain": [
              "np.float64(2.8725649350649354)"
            ]
          },
          "metadata": {},
          "execution_count": 23
        }
      ]
    },
    {
      "cell_type": "markdown",
      "source": [
        "## 3- La médiane (Med)\n",
        "\n",
        "C'est la valeur de la variable tel que le nombre d'observations supérieurs à cette valeur est égale au nombre d'observations inférieurs à cette valeur ."
      ],
      "metadata": {
        "id": "DA4AQUnml_lc"
      }
    },
    {
      "cell_type": "code",
      "source": [
        "data['montant'].median()"
      ],
      "metadata": {
        "colab": {
          "base_uri": "https://localhost:8080/"
        },
        "id": "bDf17CM0lr0O",
        "outputId": "5bbf6c42-2f58-4936-9461-5c3716c510a6"
      },
      "execution_count": 24,
      "outputs": [
        {
          "output_type": "execute_result",
          "data": {
            "text/plain": [
              "-9.6"
            ]
          },
          "metadata": {},
          "execution_count": 24
        }
      ]
    },
    {
      "cell_type": "code",
      "source": [
        "for cat in data[\"categ\"].unique():\n",
        "    subset = data.loc[data.categ == cat, :] # Création du sous-échantillon\n",
        "    print(\"-\"*20)\n",
        "    print(cat)\n",
        "    print(\"moy:\\n\",subset['montant'].mean())\n",
        "    print(\"med:\\n\",subset['montant'].median())\n",
        "    print(\"mod:\\n\",subset['montant'].mode())\n",
        "    subset[\"montant\"].hist() # Crée l'histogramme\n",
        "    plt.show() # Affiche l'histogramme"
      ],
      "metadata": {
        "colab": {
          "base_uri": "https://localhost:8080/",
          "height": 1000
        },
        "id": "Mw487dDWod2v",
        "outputId": "889d7bb8-3210-4699-961f-bbe157900dfe"
      },
      "execution_count": 25,
      "outputs": [
        {
          "output_type": "stream",
          "name": "stdout",
          "text": [
            "--------------------\n",
            "AUTRE\n",
            "moy:\n",
            " 23.433207547169808\n",
            "med:\n",
            " -8.31\n",
            "mod:\n",
            " 0   -1.6\n",
            "Name: montant, dtype: float64\n"
          ]
        },
        {
          "output_type": "display_data",
          "data": {
            "text/plain": [
              "<Figure size 640x480 with 1 Axes>"
            ],
            "image/png": "[encoded data removed]"
          },
          "metadata": {}
        },
        {
          "output_type": "stream",
          "name": "stdout",
          "text": [
            "--------------------\n",
            "TRANSPORT\n",
            "moy:\n",
            " -52.99714285714286\n",
            "med:\n",
            " -53.1\n",
            "mod:\n",
            " 0   -73.0\n",
            "Name: montant, dtype: float64\n"
          ]
        },
        {
          "output_type": "display_data",
          "data": {
            "text/plain": [
              "<Figure size 640x480 with 1 Axes>"
            ],
            "image/png": "[encoded data removed]"
          },
          "metadata": {}
        },
        {
          "output_type": "stream",
          "name": "stdout",
          "text": [
            "--------------------\n",
            "FACTURE TELEPHONE\n",
            "moy:\n",
            " -7.973333333333333\n",
            "med:\n",
            " -7.02\n",
            "mod:\n",
            " 0   -7.02\n",
            "1   -6.38\n",
            "Name: montant, dtype: float64\n"
          ]
        },
        {
          "output_type": "display_data",
          "data": {
            "text/plain": [
              "<Figure size 640x480 with 1 Axes>"
            ],
            "image/png": "[encoded data removed]"
          },
          "metadata": {}
        },
        {
          "output_type": "stream",
          "name": "stdout",
          "text": [
            "--------------------\n",
            "COURSES\n",
            "moy:\n",
            " -16.34128205128205\n",
            "med:\n",
            " -12.24\n",
            "mod:\n",
            " 0    -60.16\n",
            "1    -42.45\n",
            "2    -42.42\n",
            "3    -33.55\n",
            "4    -32.67\n",
            "5    -29.18\n",
            "6    -28.11\n",
            "7    -27.68\n",
            "8    -26.58\n",
            "9    -26.19\n",
            "10   -23.43\n",
            "11   -22.59\n",
            "12   -21.73\n",
            "13   -20.59\n",
            "14   -18.45\n",
            "15   -17.16\n",
            "16   -13.59\n",
            "17   -12.96\n",
            "18   -12.49\n",
            "19   -12.24\n",
            "20   -10.91\n",
            "21   -10.36\n",
            "22    -9.88\n",
            "23    -9.60\n",
            "24    -9.31\n",
            "25    -9.11\n",
            "26    -6.89\n",
            "27    -6.80\n",
            "28    -6.60\n",
            "29    -5.88\n",
            "30    -4.63\n",
            "31    -4.41\n",
            "32    -4.39\n",
            "33    -3.48\n",
            "34    -2.93\n",
            "35    -2.56\n",
            "36    -2.51\n",
            "37    -1.90\n",
            "38    -0.94\n",
            "Name: montant, dtype: float64\n"
          ]
        },
        {
          "output_type": "display_data",
          "data": {
            "text/plain": [
              "<Figure size 640x480 with 1 Axes>"
            ],
            "image/png": "[encoded data removed]"
          },
          "metadata": {}
        },
        {
          "output_type": "stream",
          "name": "stdout",
          "text": [
            "--------------------\n",
            "COTISATION BANCAIRE\n",
            "moy:\n",
            " -1.8857142857142857\n",
            "med:\n",
            " -1.92\n",
            "mod:\n",
            " 0   -1.92\n",
            "Name: montant, dtype: float64\n"
          ]
        },
        {
          "output_type": "display_data",
          "data": {
            "text/plain": [
              "<Figure size 640x480 with 1 Axes>"
            ],
            "image/png": "[encoded data removed]"
          },
          "metadata": {}
        },
        {
          "output_type": "stream",
          "name": "stdout",
          "text": [
            "--------------------\n",
            "RESTAURANT\n",
            "moy:\n",
            " -10.3325\n",
            "med:\n",
            " -10.1\n",
            "mod:\n",
            " 0   -9.2\n",
            "Name: montant, dtype: float64\n"
          ]
        },
        {
          "output_type": "display_data",
          "data": {
            "text/plain": [
              "<Figure size 640x480 with 1 Axes>"
            ],
            "image/png": "[encoded data removed]"
          },
          "metadata": {}
        },
        {
          "output_type": "stream",
          "name": "stdout",
          "text": [
            "--------------------\n",
            "LOYER\n",
            "moy:\n",
            " -345.0\n",
            "med:\n",
            " -345.0\n",
            "mod:\n",
            " 0   -345.0\n",
            "Name: montant, dtype: float64\n"
          ]
        },
        {
          "output_type": "display_data",
          "data": {
            "text/plain": [
              "<Figure size 640x480 with 1 Axes>"
            ],
            "image/png": "[encoded data removed]"
          },
          "metadata": {}
        },
        {
          "output_type": "stream",
          "name": "stdout",
          "text": [
            "--------------------\n",
            "PRELEVEMENT XX TELEPHONE XX XX\n",
            "moy:\n",
            " -36.48\n",
            "med:\n",
            " -36.48\n",
            "mod:\n",
            " 0   -36.48\n",
            "Name: montant, dtype: float64\n"
          ]
        },
        {
          "output_type": "display_data",
          "data": {
            "text/plain": [
              "<Figure size 640x480 with 1 Axes>"
            ],
            "image/png": "[encoded data removed]"
          },
          "metadata": {}
        }
      ]
    },
    {
      "cell_type": "code",
      "source": [],
      "metadata": {
        "id": "tvPf2WLYqk5i"
      },
      "execution_count": 25,
      "outputs": []
    }
  ]
}