{
  "nbformat": 4,
  "nbformat_minor": 0,
  "metadata": {
    "colab": {
      "provenance": [],
      "authorship_tag": "ABX9TyMAwRJqP9CPju0GBSAAMGq1",
      "include_colab_link": true
    },
    "kernelspec": {
      "name": "python3",
      "display_name": "Python 3"
    },
    "language_info": {
      "name": "python"
    }
  },
  "cells": [
    {
      "cell_type": "markdown",
      "metadata": {
        "id": "view-in-github",
        "colab_type": "text"
      },
      "source": [
        "<a href=\"https://colab.research.google.com/github/Harlequelrah/Learning_data_analysis/blob/main/Learning_data_analysis/Courses/Partie_3/Repr%C3%A9sentez_la_distribution_empirique_d'une_variable.ipynb\" target=\"_parent\"><img src=\"https://colab.research.google.com/assets/colab-badge.svg\" alt=\"Open In Colab\"/></a>"
      ]
    },
    {
      "cell_type": "markdown",
      "source": [
        "# la **distribution empirique**\n",
        "\n",
        "La distribution empirique d'une variable, c'est l’ensemble des valeurs (ou modalités) prises par cette variable, ainsi que leurs effectifs associés"
      ],
      "metadata": {
        "id": "_o_cBYGZ4E7U"
      }
    },
    {
      "cell_type": "markdown",
      "source": [
        "Représentez une distribution empirique:\n",
        "Les différentes possibilités pour une variable qualitative sont appelées les modalités et pour une variable quantitative les valeurs .\n",
        "\n",
        "\n",
        "la fréquence est le rapport de l'effectif d'une modalité sur l'effectif total"
      ],
      "metadata": {
        "id": "3S56fvke7LaP"
      }
    },
    {
      "cell_type": "code",
      "execution_count": null,
      "metadata": {
        "id": "1P_lb6H5zBIO"
      },
      "outputs": [],
      "source": [
        "# Diagramme en secteurs\n",
        "data[\"categ\"].value_counts(normalize=True).plot(kind='pie')\n",
        "# Cette ligne assure que le pie chart est un cercle plutôt qu'une éllipse\n",
        "plt.axis('equal')\n",
        "plt.show() # Affiche le graphique\n",
        "\n",
        "# Diagramme en tuyaux d'orgues\n",
        "data[\"categ\"].value_counts(normalize=True).plot(kind='bar')\n",
        "plt.show()"
      ]
    }
  ]
}