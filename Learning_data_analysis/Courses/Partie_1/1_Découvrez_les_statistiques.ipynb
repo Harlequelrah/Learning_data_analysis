{
  "nbformat": 4,
  "nbformat_minor": 0,
  "metadata": {
    "colab": {
      "provenance": [],
      "authorship_tag": "ABX9TyNfgggIm+/p58MWJnQjmVAj",
      "include_colab_link": true
    },
    "kernelspec": {
      "name": "python3",
      "display_name": "Python 3"
    },
    "language_info": {
      "name": "python"
    }
  },
  "cells": [
    {
      "cell_type": "markdown",
      "metadata": {
        "id": "view-in-github",
        "colab_type": "text"
      },
      "source": [
        "<a href=\"https://colab.research.google.com/github/Harlequelrah/Learning_data_analysis/blob/main/Learning_data_analysis/Courses/Partie_1/1_D%C3%A9couvrez_les_statistiques.ipynb\" target=\"_parent\"><img src=\"https://colab.research.google.com/assets/colab-badge.svg\" alt=\"Open In Colab\"/></a>"
      ]
    },
    {
      "cell_type": "markdown",
      "source": [
        "# Découvrez le lexique du vocabulaire dans la data\n",
        "\n",
        "En statistique on étudie des individus qui peuvents etre des objets , personnes etc ...\n",
        "\n",
        "Leurs caractéristiques s'appelle des variables .\n",
        "\n",
        "L'ensemble des individus s'appelle population (N)\n",
        "\n",
        "Une selection de certains individus d'une population est un échantillon (n)\n",
        "\n",
        "Le jeu de données ou data set correspond à l'ensemble des informations collectées sur les individus d'un échantillon\n",
        "\n",
        "Un échantillon est représenté sous forme de tableau d'individus et de variables\n",
        "\n",
        "## différence entre statistiques et probabilités\n",
        "\n",
        "Bien qu'ils soient étroitement liés ils sont bien distincts :\n",
        "\n",
        "- statistiques : observer et décrire objectivement un phénomène passé;\n",
        "\n",
        "- probabilités : modéliser ou essayer de comprendre les chances qu'un évènement se produise.\n",
        "\n",
        "# les différents domaines de la statistique\n",
        "\n",
        "1 - Les statistiques descriptives :   \n",
        "Décrire et résumer un jeu de données avec des graphiques et des mesures\n",
        "\n",
        "2 - L'analyse multidimensionnelle ou exploratoire:\n",
        "Prolongement des statistiques descriptives mais étude des relations entre 3 variables ou plus.\n",
        "\n",
        "3 - Les statistiques inférentielles\n",
        "Analyser les données d'un sous-ensemble d'une population pour en déduire les caracteristiques globales de la population .\n",
        "\n",
        "4 - La modélisation statistique\n",
        "\n",
        "Il s'agit d'observer les caracteristiques d'un echantillon puis de formaliser ces observations en regles mathematiques. Cette formalisation s'appelle un modèle probabiliste qui premet de faire de la prédiction ou prévision .\n",
        "\n",
        "# Data Analyst vs Data Scientist\n",
        "\n",
        "Le Data Analyst prépare les données et réalise des analyses descriptives et exploratoires pour aider à la prise de décision. Le Data Scientist, en plus de ces compétences, crée des modèles prédictifs à l’aide d’algorithmes pour automatiser et anticiper les comportements ou tendances."
      ],
      "metadata": {
        "id": "Ky8aKu_950dN"
      }
    },
    {
      "cell_type": "code",
      "execution_count": null,
      "metadata": {
        "id": "3cvJlJvO5BLG"
      },
      "outputs": [],
      "source": []
    }
  ]
}